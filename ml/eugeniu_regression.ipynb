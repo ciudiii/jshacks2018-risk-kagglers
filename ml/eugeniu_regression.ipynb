{
 "cells": [
  {
   "cell_type": "code",
   "execution_count": 229,
   "metadata": {},
   "outputs": [],
   "source": [
    "import pandas as pd\n",
    "import numpy as np\n",
    "import matplotlib.pyplot as plt\n",
    "\n",
    "from collections import namedtuple\n",
    "Dataset = namedtuple(\"Dataset\", \"data target\")\n",
    "\n",
    "from collections import defaultdict\n",
    "from sklearn import metrics\n",
    "from sklearn.model_selection import GridSearchCV, train_test_split, cross_validate, cross_val_predict\n",
    "\n",
    "from sklearn.linear_model import (ARDRegression, BayesianRidge, ElasticNet, ElasticNetCV, HuberRegressor, Lars, LarsCV,\n",
    "                                  Lasso, LassoCV, LassoLars, LassoLarsCV, LassoLarsIC, LinearRegression,\n",
    "                                  MultiTaskElasticNet, MultiTaskElasticNetCV, MultiTaskLasso, MultiTaskLassoCV,\n",
    "                                  OrthogonalMatchingPursuit, OrthogonalMatchingPursuitCV, PassiveAggressiveRegressor,\n",
    "                                  RANSACRegressor, Ridge, RidgeCV, SGDRegressor, TheilSenRegressor)\n",
    "\n",
    "from sklearn.ensemble import (AdaBoostRegressor, BaggingRegressor, ExtraTreesRegressor, RandomForestRegressor)\n",
    "from sklearn.cross_decomposition import (CCA, PLSCanonical, PLSRegression)\n",
    "from sklearn.tree import (DecisionTreeRegressor, ExtraTreeRegressor)\n",
    "from sklearn.gaussian_process import (GaussianProcessRegressor)\n",
    "from sklearn.neighbors import (KNeighborsRegressor, RadiusNeighborsRegressor)\n",
    "from sklearn.kernel_ridge import KernelRidge\n",
    "from sklearn.svm import (LinearSVR, NuSVR, SVR)\n",
    "\n",
    "def RMSE(actual,predicted):\n",
    "    return np.sqrt(metrics.mean_squared_error(actual,predicted))"
   ]
  },
  {
   "cell_type": "code",
   "execution_count": 3,
   "metadata": {},
   "outputs": [],
   "source": [
    "IN_TRAIN = 'in/train-wrangled.csv'"
   ]
  },
  {
   "cell_type": "code",
   "execution_count": 4,
   "metadata": {},
   "outputs": [],
   "source": [
    "dataframe = pd.read_csv(IN_TRAIN, dtype={'fullVisitorId': 'str'}, low_memory=False)"
   ]
  },
  {
   "cell_type": "code",
   "execution_count": 15,
   "metadata": {},
   "outputs": [
    {
     "name": "stdout",
     "output_type": "stream",
     "text": [
      "Number of unique users: 714167\n"
     ]
    }
   ],
   "source": [
    "print(\"Number of unique users: {}\".format(len(dataframe)))"
   ]
  },
  {
   "cell_type": "code",
   "execution_count": 123,
   "metadata": {
    "scrolled": true
   },
   "outputs": [
    {
     "name": "stderr",
     "output_type": "stream",
     "text": [
      "/home/eugenius/.local/share/virtualenvs/scikit-XsFrGcKX/lib/python3.5/site-packages/sklearn/model_selection/_split.py:2026: FutureWarning: From version 0.21, test_size will always complement train_size unless both are specified.\n",
      "  FutureWarning)\n"
     ]
    }
   ],
   "source": [
    "train_df, _ = train_test_split(dataframe, train_size=10000, shuffle=True, random_state=42)"
   ]
  },
  {
   "cell_type": "code",
   "execution_count": 124,
   "metadata": {},
   "outputs": [
    {
     "data": {
      "text/html": [
       "<div>\n",
       "<style scoped>\n",
       "    .dataframe tbody tr th:only-of-type {\n",
       "        vertical-align: middle;\n",
       "    }\n",
       "\n",
       "    .dataframe tbody tr th {\n",
       "        vertical-align: top;\n",
       "    }\n",
       "\n",
       "    .dataframe thead th {\n",
       "        text-align: right;\n",
       "    }\n",
       "</style>\n",
       "<table border=\"1\" class=\"dataframe\">\n",
       "  <thead>\n",
       "    <tr style=\"text-align: right;\">\n",
       "      <th></th>\n",
       "      <th>date</th>\n",
       "      <th>visitNumber</th>\n",
       "      <th>device.isMobile</th>\n",
       "      <th>totals.bounces</th>\n",
       "      <th>totals.hits</th>\n",
       "      <th>totals.newVisits</th>\n",
       "      <th>totals.pageviews</th>\n",
       "      <th>totals.visits</th>\n",
       "      <th>trafficSource.adwordsClickInfo.isVideoAd</th>\n",
       "      <th>trafficSource.isTrueDirect</th>\n",
       "      <th>...</th>\n",
       "      <th>geoNetwork.subContinent Western Asia</th>\n",
       "      <th>geoNetwork.subContinent Western Europe</th>\n",
       "      <th>trafficSource.source (direct)</th>\n",
       "      <th>trafficSource.source Other</th>\n",
       "      <th>trafficSource.source Partners</th>\n",
       "      <th>trafficSource.source analytics.google.com</th>\n",
       "      <th>trafficSource.source google</th>\n",
       "      <th>trafficSource.source mall.googleplex.com</th>\n",
       "      <th>trafficSource.source youtube.com</th>\n",
       "      <th>totals.transactionRevenue</th>\n",
       "    </tr>\n",
       "  </thead>\n",
       "  <tbody>\n",
       "    <tr>\n",
       "      <th>77442</th>\n",
       "      <td>0.0115</td>\n",
       "      <td>0.000000</td>\n",
       "      <td>0</td>\n",
       "      <td>0.0</td>\n",
       "      <td>0.016032</td>\n",
       "      <td>0.333333</td>\n",
       "      <td>0.001683</td>\n",
       "      <td>0.00000</td>\n",
       "      <td>0</td>\n",
       "      <td>0</td>\n",
       "      <td>...</td>\n",
       "      <td>0</td>\n",
       "      <td>1</td>\n",
       "      <td>0</td>\n",
       "      <td>0</td>\n",
       "      <td>0</td>\n",
       "      <td>0</td>\n",
       "      <td>1</td>\n",
       "      <td>0</td>\n",
       "      <td>0</td>\n",
       "      <td>0.0</td>\n",
       "    </tr>\n",
       "    <tr>\n",
       "      <th>420331</th>\n",
       "      <td>0.9626</td>\n",
       "      <td>0.000000</td>\n",
       "      <td>0</td>\n",
       "      <td>0.0</td>\n",
       "      <td>0.004008</td>\n",
       "      <td>0.333333</td>\n",
       "      <td>0.000721</td>\n",
       "      <td>0.00000</td>\n",
       "      <td>0</td>\n",
       "      <td>0</td>\n",
       "      <td>...</td>\n",
       "      <td>0</td>\n",
       "      <td>0</td>\n",
       "      <td>0</td>\n",
       "      <td>0</td>\n",
       "      <td>0</td>\n",
       "      <td>0</td>\n",
       "      <td>1</td>\n",
       "      <td>0</td>\n",
       "      <td>0</td>\n",
       "      <td>0.0</td>\n",
       "    </tr>\n",
       "    <tr>\n",
       "      <th>84153</th>\n",
       "      <td>0.9601</td>\n",
       "      <td>0.000000</td>\n",
       "      <td>0</td>\n",
       "      <td>0.0</td>\n",
       "      <td>0.002004</td>\n",
       "      <td>0.333333</td>\n",
       "      <td>0.000481</td>\n",
       "      <td>0.00000</td>\n",
       "      <td>0</td>\n",
       "      <td>0</td>\n",
       "      <td>...</td>\n",
       "      <td>1</td>\n",
       "      <td>0</td>\n",
       "      <td>0</td>\n",
       "      <td>0</td>\n",
       "      <td>0</td>\n",
       "      <td>0</td>\n",
       "      <td>1</td>\n",
       "      <td>0</td>\n",
       "      <td>0</td>\n",
       "      <td>0.0</td>\n",
       "    </tr>\n",
       "    <tr>\n",
       "      <th>377332</th>\n",
       "      <td>0.9810</td>\n",
       "      <td>0.000000</td>\n",
       "      <td>0</td>\n",
       "      <td>0.0</td>\n",
       "      <td>0.000000</td>\n",
       "      <td>0.333333</td>\n",
       "      <td>0.000240</td>\n",
       "      <td>0.00000</td>\n",
       "      <td>0</td>\n",
       "      <td>0</td>\n",
       "      <td>...</td>\n",
       "      <td>0</td>\n",
       "      <td>0</td>\n",
       "      <td>1</td>\n",
       "      <td>0</td>\n",
       "      <td>0</td>\n",
       "      <td>0</td>\n",
       "      <td>0</td>\n",
       "      <td>0</td>\n",
       "      <td>0</td>\n",
       "      <td>0.0</td>\n",
       "    </tr>\n",
       "    <tr>\n",
       "      <th>239423</th>\n",
       "      <td>0.9920</td>\n",
       "      <td>0.000032</td>\n",
       "      <td>0</td>\n",
       "      <td>0.0</td>\n",
       "      <td>0.004008</td>\n",
       "      <td>0.333333</td>\n",
       "      <td>0.000962</td>\n",
       "      <td>0.00361</td>\n",
       "      <td>0</td>\n",
       "      <td>0</td>\n",
       "      <td>...</td>\n",
       "      <td>0</td>\n",
       "      <td>0</td>\n",
       "      <td>1</td>\n",
       "      <td>0</td>\n",
       "      <td>0</td>\n",
       "      <td>0</td>\n",
       "      <td>0</td>\n",
       "      <td>0</td>\n",
       "      <td>0</td>\n",
       "      <td>0.0</td>\n",
       "    </tr>\n",
       "  </tbody>\n",
       "</table>\n",
       "<p>5 rows × 163 columns</p>\n",
       "</div>"
      ],
      "text/plain": [
       "          date  visitNumber  device.isMobile  totals.bounces  totals.hits  \\\n",
       "77442   0.0115     0.000000                0             0.0     0.016032   \n",
       "420331  0.9626     0.000000                0             0.0     0.004008   \n",
       "84153   0.9601     0.000000                0             0.0     0.002004   \n",
       "377332  0.9810     0.000000                0             0.0     0.000000   \n",
       "239423  0.9920     0.000032                0             0.0     0.004008   \n",
       "\n",
       "        totals.newVisits  totals.pageviews  totals.visits  \\\n",
       "77442           0.333333          0.001683        0.00000   \n",
       "420331          0.333333          0.000721        0.00000   \n",
       "84153           0.333333          0.000481        0.00000   \n",
       "377332          0.333333          0.000240        0.00000   \n",
       "239423          0.333333          0.000962        0.00361   \n",
       "\n",
       "        trafficSource.adwordsClickInfo.isVideoAd  trafficSource.isTrueDirect  \\\n",
       "77442                                          0                           0   \n",
       "420331                                         0                           0   \n",
       "84153                                          0                           0   \n",
       "377332                                         0                           0   \n",
       "239423                                         0                           0   \n",
       "\n",
       "                  ...              geoNetwork.subContinent Western Asia  \\\n",
       "77442             ...                                                 0   \n",
       "420331            ...                                                 0   \n",
       "84153             ...                                                 1   \n",
       "377332            ...                                                 0   \n",
       "239423            ...                                                 0   \n",
       "\n",
       "        geoNetwork.subContinent Western Europe  trafficSource.source (direct)  \\\n",
       "77442                                        1                              0   \n",
       "420331                                       0                              0   \n",
       "84153                                        0                              0   \n",
       "377332                                       0                              1   \n",
       "239423                                       0                              1   \n",
       "\n",
       "        trafficSource.source Other  trafficSource.source Partners  \\\n",
       "77442                            0                              0   \n",
       "420331                           0                              0   \n",
       "84153                            0                              0   \n",
       "377332                           0                              0   \n",
       "239423                           0                              0   \n",
       "\n",
       "        trafficSource.source analytics.google.com  \\\n",
       "77442                                           0   \n",
       "420331                                          0   \n",
       "84153                                           0   \n",
       "377332                                          0   \n",
       "239423                                          0   \n",
       "\n",
       "        trafficSource.source google  trafficSource.source mall.googleplex.com  \\\n",
       "77442                             1                                         0   \n",
       "420331                            1                                         0   \n",
       "84153                             1                                         0   \n",
       "377332                            0                                         0   \n",
       "239423                            0                                         0   \n",
       "\n",
       "        trafficSource.source youtube.com  totals.transactionRevenue  \n",
       "77442                                  0                        0.0  \n",
       "420331                                 0                        0.0  \n",
       "84153                                  0                        0.0  \n",
       "377332                                 0                        0.0  \n",
       "239423                                 0                        0.0  \n",
       "\n",
       "[5 rows x 163 columns]"
      ]
     },
     "execution_count": 124,
     "metadata": {},
     "output_type": "execute_result"
    }
   ],
   "source": [
    "train_df = train_df.drop(columns=[\"fullVisitorId\", \"sessionId\", \"visitId\", \"visitStartTime\"])\n",
    "train_df = train_df.fillna(0)\n",
    "train_df.head()"
   ]
  },
  {
   "cell_type": "code",
   "execution_count": 125,
   "metadata": {},
   "outputs": [],
   "source": [
    "def load_csv_dataset(df):\n",
    "    target = df[\"totals.transactionRevenue\"].values\n",
    "    data = df.drop(columns=\"totals.transactionRevenue\").values\n",
    "    return Dataset(data=data, target=target)"
   ]
  },
  {
   "cell_type": "code",
   "execution_count": 223,
   "metadata": {},
   "outputs": [],
   "source": [
    "dataset = load_csv_dataset(train_df)"
   ]
  },
  {
   "cell_type": "code",
   "execution_count": 127,
   "metadata": {},
   "outputs": [
    {
     "name": "stdout",
     "output_type": "stream",
     "text": [
      "CPU times: user 2.4 s, sys: 44 ms, total: 2.44 s\n",
      "Wall time: 2.44 s\n"
     ]
    }
   ],
   "source": [
    "%%time\n",
    "from sklearn.ensemble import IsolationForest\n",
    "isolation = IsolationForest()\n",
    "isolation.fit(dataset.data, y=dataset.target)\n",
    "anomalies = isolation.predict(dataset.data)\n",
    "anomalies"
   ]
  },
  {
   "cell_type": "code",
   "execution_count": 128,
   "metadata": {},
   "outputs": [
    {
     "data": {
      "text/plain": [
       "0.9"
      ]
     },
     "execution_count": 128,
     "metadata": {},
     "output_type": "execute_result"
    }
   ],
   "source": [
    "len(anomalies[anomalies == 1]) / len(anomalies)"
   ]
  },
  {
   "cell_type": "code",
   "execution_count": 129,
   "metadata": {},
   "outputs": [
    {
     "data": {
      "text/plain": [
       "((10000, 162), (1000, 162))"
      ]
     },
     "execution_count": 129,
     "metadata": {},
     "output_type": "execute_result"
    }
   ],
   "source": [
    "X = np.delete(dataset.data, np.where(anomalies == 1)[0], axis=0)\n",
    "y = np.delete(dataset.target, np.where(anomalies == 1)[0])\n",
    "dataset.data.shape, X.shape"
   ]
  },
  {
   "cell_type": "code",
   "execution_count": 170,
   "metadata": {},
   "outputs": [
    {
     "data": {
      "text/plain": [
       "(10, 162)"
      ]
     },
     "execution_count": 170,
     "metadata": {},
     "output_type": "execute_result"
    }
   ],
   "source": [
    "from sklearn.decomposition import PCA\n",
    "pca = PCA(n_components=10)\n",
    "X = pca.fit_transform(dataset.data)\n",
    "y = dataset.target"
   ]
  },
  {
   "cell_type": "code",
   "execution_count": 224,
   "metadata": {
    "scrolled": true
   },
   "outputs": [
    {
     "name": "stdout",
     "output_type": "stream",
     "text": [
      "CPU times: user 1.12 s, sys: 4 ms, total: 1.12 s\n",
      "Wall time: 1.13 s\n"
     ]
    }
   ],
   "source": [
    "%%time\n",
    "params = {\n",
    "    \n",
    "}\n",
    "\n",
    "estimator = RandomForestRegressor()\n",
    "estimator.set_params(**params)\n",
    "\n",
    "# estimator.fit(X, y)\n",
    "# results = estimator.predict(dataset.data)\n",
    "results = cross_val_predict(estimator, dataset.data, dataset.target)"
   ]
  },
  {
   "cell_type": "code",
   "execution_count": 172,
   "metadata": {},
   "outputs": [
    {
     "data": {
      "text/plain": [
       "2519423.3"
      ]
     },
     "execution_count": 172,
     "metadata": {},
     "output_type": "execute_result"
    }
   ],
   "source": [
    "results[results < 0] = 0\n",
    "np.mean(results)"
   ]
  },
  {
   "cell_type": "code",
   "execution_count": 230,
   "metadata": {},
   "outputs": [
    {
     "data": {
      "text/plain": [
       "36725877.69969698"
      ]
     },
     "execution_count": 230,
     "metadata": {},
     "output_type": "execute_result"
    }
   ],
   "source": [
    "RMSE(dataset.target, results)"
   ]
  },
  {
   "cell_type": "code",
   "execution_count": 174,
   "metadata": {},
   "outputs": [
    {
     "data": {
      "text/plain": [
       "0.944"
      ]
     },
     "execution_count": 174,
     "metadata": {},
     "output_type": "execute_result"
    }
   ],
   "source": [
    "len(results[results==0])/len(results)"
   ]
  },
  {
   "cell_type": "code",
   "execution_count": 175,
   "metadata": {},
   "outputs": [
    {
     "data": {
      "text/plain": [
       "array(['date', 'totals.pageviews', 'totals.visits',\n",
       "       'geoNetwork.city not available in demo dataset',\n",
       "       'geoNetwork.country Canada'], dtype='<U46')"
      ]
     },
     "execution_count": 175,
     "metadata": {},
     "output_type": "execute_result"
    }
   ],
   "source": [
    "estimator.fit(dataset.data, dataset.target)\n",
    "importances = estimator.feature_importances_\n",
    "feature_names = np.array(list(train_df)[:-1])\n",
    "feature_names[importances > 0.05]"
   ]
  },
  {
   "cell_type": "code",
   "execution_count": 221,
   "metadata": {},
   "outputs": [
    {
     "data": {
      "text/plain": [
       "array([0.13763548, 0.05549551, 0.06512627, 0.05960663, 0.04523174,\n",
       "       0.12558777, 0.24392239, 0.12970753, 0.09652947, 0.04115723])"
      ]
     },
     "execution_count": 221,
     "metadata": {},
     "output_type": "execute_result"
    }
   ],
   "source": [
    "estimator.fit(X, y)\n",
    "importances = estimator.feature_importances_\n",
    "importances"
   ]
  },
  {
   "cell_type": "code",
   "execution_count": 220,
   "metadata": {},
   "outputs": [
    {
     "name": "stdout",
     "output_type": "stream",
     "text": [
      "9414 [0.00000e+00 4.10210e+07 6.74220e+07 1.03764e+08 1.24829e+08 1.27088e+08]\n"
     ]
    }
   ],
   "source": [
    "f = results[ np.abs(results - dataset.target)/ (dataset.target+1) < 0.1 ]\n",
    "print(len(f), np.unique(f))"
   ]
  },
  {
   "cell_type": "code",
   "execution_count": null,
   "metadata": {},
   "outputs": [],
   "source": []
  }
 ],
 "metadata": {
  "kernelspec": {
   "display_name": "Python 3",
   "language": "python",
   "name": "python3"
  },
  "language_info": {
   "codemirror_mode": {
    "name": "ipython",
    "version": 3
   },
   "file_extension": ".py",
   "mimetype": "text/x-python",
   "name": "python",
   "nbconvert_exporter": "python",
   "pygments_lexer": "ipython3",
   "version": "3.5.3"
  }
 },
 "nbformat": 4,
 "nbformat_minor": 2
}
